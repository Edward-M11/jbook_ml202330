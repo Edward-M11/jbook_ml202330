{
 "cells": [
  {
   "cell_type": "markdown",
   "metadata": {},
   "source": [
    "# **Conclusiones:**\n",
    "\n",
    "Tras evaluar estos modelos clasificación en nuestro conjunto de datos podemos concluir que.\n",
    "\n",
    "1. **El rendimiento sobresaliente de Random Forest**: \n",
    "El modelo de Random Forest demostró ser el más preciso y robusto de todos, alcanzando una perfección en todas las métricas evaluadas. Esto sugiere que el modelo ha capturado con éxito las características subyacentes del conjunto de datos y es altamente confiable para la tarea de segmentación Eetratégica de clientes.\n",
    "\n",
    "2. **Para K-NN**: \n",
    "El modelo K-NN también mostró un rendimiento excepcional, con métricas cercanas a la perfección. Esto indica que los datos estan bien agrupados en el espacio de características, permitiendo que K-NN realice predicciones muy precisas.\n",
    "\n",
    "3. **XGBoost y AdaBoost**: \n",
    "Ambos modelos, aunque no alcanzaron la perfección como Random Forest, mostraron un rendimiento impresionante. Específicamente, XGBoost tiene un AUC cercano a 1, lo que indica una excelente capacidad de distinguir entre clases. AdaBoost, por otro lado, mostró un rendimiento ligeramente inferior en comparación con los otros modelos, pero aún así tiene un AUC muy alto, lo que indica una buena capacidad de clasificación y asi como se explico en los resultados, AdaBoost trata de evitar los errores de XGBoost pero termian causando otros.\n",
    "\n",
    "4. **Para arobol de desicion**: \n",
    "El árbol de decisión no alcanzó la perfección como algunos otros modelos, Esto es comprencible dado de que este es un modelo mucho mas sencillo, el cual si comete errores en clasificar cada clase..\n",
    "\n",
    "\n",
    "En resumen, los resultados obtenidos demuestran la eficacia de los modelos de clasificación en la tarea dada. El modelo Random Forest, en particular, se destaca como el más adecuado para la implementación en escenarios de producción, debido a su precisión y robustez."
   ]
  }
 ],
 "metadata": {
  "kernelspec": {
   "display_name": "Python 3",
   "language": "python",
   "name": "python3"
  },
  "language_info": {
   "codemirror_mode": {
    "name": "ipython",
    "version": 3
   },
   "file_extension": ".py",
   "mimetype": "text/x-python",
   "name": "python",
   "nbconvert_exporter": "python",
   "pygments_lexer": "ipython3",
   "version": "3.9.17"
  },
  "widgets": {
   "application/vnd.jupyter.widget-state+json": {
    "state": {},
    "version_major": 2,
    "version_minor": 0
   }
  }
 },
 "nbformat": 4,
 "nbformat_minor": 4
}
